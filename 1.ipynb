{
  "nbformat": 4,
  "nbformat_minor": 0,
  "metadata": {
    "colab": {
      "provenance": []
    },
    "kernelspec": {
      "name": "python3",
      "display_name": "Python 3"
    },
    "language_info": {
      "name": "python"
    }
  },
  "cells": [
    {
      "cell_type": "code",
      "execution_count": null,
      "metadata": {
        "id": "X6RmVBdPOUZY",
        "colab": {
          "base_uri": "https://localhost:8080/"
        },
        "outputId": "f8325491-6b7a-4ea1-fa76-74149f3d3f44"
      },
      "outputs": [
        {
          "output_type": "stream",
          "name": "stdout",
          "text": [
            "[1 2 3]\n"
          ]
        }
      ],
      "source": [
        "import numpy as np\n",
        "a=np.array([1,2,3])\n",
        "print(a)"
      ]
    },
    {
      "cell_type": "code",
      "source": [
        "import numpy as np\n",
        "a = np.array([[1, 2], [3, 4]])\n",
        "print(a)"
      ],
      "metadata": {
        "id": "9yTTuVDdOXGY",
        "colab": {
          "base_uri": "https://localhost:8080/"
        },
        "outputId": "fb540533-9aa5-4b2b-af01-37d378c2b70e"
      },
      "execution_count": null,
      "outputs": [
        {
          "output_type": "stream",
          "name": "stdout",
          "text": [
            "[[1 2]\n",
            " [3 4]]\n"
          ]
        }
      ]
    },
    {
      "cell_type": "code",
      "source": [
        "import numpy as np\n",
        "a=np.array([1, 2, 3,4,5], ndmin=2)\n",
        "print(a)"
      ],
      "metadata": {
        "colab": {
          "base_uri": "https://localhost:8080/"
        },
        "id": "VOWh-ACWOg1n",
        "outputId": "7ced5f1a-2e5b-4aaf-dca0-3839bf99aa4f"
      },
      "execution_count": null,
      "outputs": [
        {
          "output_type": "stream",
          "name": "stdout",
          "text": [
            "[[1 2 3 4 5]]\n"
          ]
        }
      ]
    },
    {
      "cell_type": "code",
      "source": [
        "import numpy as np\n",
        "dt=np.dtype(np.int32)\n",
        "print(dt)"
      ],
      "metadata": {
        "colab": {
          "base_uri": "https://localhost:8080/"
        },
        "id": "2k6g191LOjKX",
        "outputId": "74ba13d1-13e0-4324-a287-e403e459e2a4"
      },
      "execution_count": null,
      "outputs": [
        {
          "output_type": "stream",
          "name": "stdout",
          "text": [
            "int32\n"
          ]
        }
      ]
    },
    {
      "cell_type": "code",
      "source": [
        "import numpy as np\n",
        "a=np.array([[1,2,3],[4,5,6]])\n",
        "print(a.shape)"
      ],
      "metadata": {
        "id": "xF6IVCHUOnU3",
        "colab": {
          "base_uri": "https://localhost:8080/"
        },
        "outputId": "0fce385a-db7e-4802-a5f3-2a5160079f01"
      },
      "execution_count": null,
      "outputs": [
        {
          "output_type": "stream",
          "name": "stdout",
          "text": [
            "(2, 3)\n"
          ]
        }
      ]
    },
    {
      "cell_type": "code",
      "source": [
        "import numpy as np \n",
        "a = np.arange(24)\n",
        "print(a)"
      ],
      "metadata": {
        "colab": {
          "base_uri": "https://localhost:8080/"
        },
        "id": "J7nigXKaO6FW",
        "outputId": "64739c3e-dca3-4d89-a6f3-0cef179113a1"
      },
      "execution_count": null,
      "outputs": [
        {
          "output_type": "stream",
          "name": "stdout",
          "text": [
            "[ 0  1  2  3  4  5  6  7  8  9 10 11 12 13 14 15 16 17 18 19 20 21 22 23]\n"
          ]
        }
      ]
    },
    {
      "cell_type": "code",
      "source": [
        "import numpy as np\n",
        "x = np.zeros(5)\n",
        "print(x)"
      ],
      "metadata": {
        "colab": {
          "base_uri": "https://localhost:8080/"
        },
        "id": "mJfl7YoQPDv3",
        "outputId": "9fba4282-f2e4-469a-eed9-6dcba9d04279"
      },
      "execution_count": null,
      "outputs": [
        {
          "output_type": "stream",
          "name": "stdout",
          "text": [
            "[0. 0. 0. 0. 0.]\n"
          ]
        }
      ]
    },
    {
      "cell_type": "code",
      "source": [
        "x = np.ones([2,2], dtype=int)\n",
        "print(x)"
      ],
      "metadata": {
        "id": "wQs0u2L1QrhW",
        "colab": {
          "base_uri": "https://localhost:8080/"
        },
        "outputId": "0ac3be11-06c8-4ebc-cd5b-f323d0344b39"
      },
      "execution_count": null,
      "outputs": [
        {
          "output_type": "stream",
          "name": "stdout",
          "text": [
            "[[1 1]\n",
            " [1 1]]\n"
          ]
        }
      ]
    },
    {
      "cell_type": "code",
      "source": [
        "x = [1,2,3]\n",
        "a = np.asarray(x)\n",
        "print(a)"
      ],
      "metadata": {
        "id": "-8AUYxoGPOrn",
        "colab": {
          "base_uri": "https://localhost:8080/"
        },
        "outputId": "92caa23a-e324-4275-f77e-03ec603030eb"
      },
      "execution_count": null,
      "outputs": [
        {
          "output_type": "stream",
          "name": "stdout",
          "text": [
            "[1 2 3]\n"
          ]
        }
      ]
    },
    {
      "cell_type": "code",
      "source": [
        "# s = 'Hello World'\n",
        "# a = np.frombuffer(s, dtype='S1')\n",
        "# print(a)"
      ],
      "metadata": {
        "id": "7vuxzEotQxIe"
      },
      "execution_count": null,
      "outputs": []
    },
    {
      "cell_type": "code",
      "source": [
        "list = range(5)\n",
        "print(list)"
      ],
      "metadata": {
        "colab": {
          "base_uri": "https://localhost:8080/"
        },
        "id": "1le3_RJlQhm3",
        "outputId": "7ac19798-e146-442b-d410-6f4c5d5ebc46"
      },
      "execution_count": null,
      "outputs": [
        {
          "output_type": "stream",
          "name": "stdout",
          "text": [
            "range(0, 5)\n"
          ]
        }
      ]
    },
    {
      "cell_type": "code",
      "source": [
        "list = range(5)\n",
        "it = iter(list)\n",
        "# use iterator to create ndarray\n",
        "x = np.fromiter(it, dtype=float)\n",
        "print(x)"
      ],
      "metadata": {
        "colab": {
          "base_uri": "https://localhost:8080/"
        },
        "id": "MD930DnyQmEG",
        "outputId": "37310b4e-dc6d-48c7-f038-34a6257f3dbe"
      },
      "execution_count": null,
      "outputs": [
        {
          "output_type": "stream",
          "name": "stdout",
          "text": [
            "[0. 1. 2. 3. 4.]\n"
          ]
        }
      ]
    },
    {
      "cell_type": "code",
      "source": [
        "x = np.arange(5)\n",
        "print(x)"
      ],
      "metadata": {
        "id": "uBYwsLkEQoTm",
        "colab": {
          "base_uri": "https://localhost:8080/"
        },
        "outputId": "a625d0d0-53d3-4f8e-d4d0-1d511adb46f3"
      },
      "execution_count": null,
      "outputs": [
        {
          "output_type": "stream",
          "name": "stdout",
          "text": [
            "[0 1 2 3 4]\n"
          ]
        }
      ]
    },
    {
      "cell_type": "code",
      "source": [
        "# dtype set\n",
        "x = np.arange(5, dtype=float)\n",
        "print(x)"
      ],
      "metadata": {
        "id": "VtUoLKW4Q_t-",
        "colab": {
          "base_uri": "https://localhost:8080/"
        },
        "outputId": "d1f73176-2b3b-4be2-a7f7-61ec12563c99"
      },
      "execution_count": null,
      "outputs": [
        {
          "output_type": "stream",
          "name": "stdout",
          "text": [
            "[0. 1. 2. 3. 4.]\n"
          ]
        }
      ]
    },
    {
      "cell_type": "code",
      "source": [],
      "metadata": {
        "id": "UuxXQeXADKXq"
      },
      "execution_count": null,
      "outputs": []
    }
  ]
}